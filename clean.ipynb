{
 "cells": [
  {
   "cell_type": "code",
   "execution_count": 14,
   "metadata": {},
   "outputs": [],
   "source": [
    "# We import the libraries need to read/write the dataset\n",
    "\n",
    "import os\n",
    "import pandas as pd"
   ]
  },
  {
   "cell_type": "code",
   "execution_count": 54,
   "metadata": {},
   "outputs": [],
   "source": [
    "# For clarity, we extarct the path and file name\n",
    "\n",
    "DATASET_PATH = 'NHANES/2015-2016/'\n",
    "EXCEL_FILE = 'GLU_I.csv'"
   ]
  },
  {
   "cell_type": "code",
   "execution_count": 55,
   "metadata": {},
   "outputs": [],
   "source": [
    "# We store all the excel data in a variable called dataset\n",
    "\n",
    "data_path = os.path.join(DATASET_PATH, EXCEL_FILE)\n",
    "dataset = pd.read_csv(data_path)"
   ]
  },
  {
   "cell_type": "code",
   "execution_count": 56,
   "metadata": {},
   "outputs": [
    {
     "data": {
      "text/plain": [
       "(3191, 4)"
      ]
     },
     "execution_count": 56,
     "metadata": {},
     "output_type": "execute_result"
    }
   ],
   "source": [
    "# We see if everything got imported properly by measuring the no. of columns and no. of rows\n",
    "\n",
    "dataset.shape"
   ]
  },
  {
   "cell_type": "code",
   "execution_count": 61,
   "metadata": {},
   "outputs": [
    {
     "data": {
      "text/html": [
       "<div>\n",
       "<style scoped>\n",
       "    .dataframe tbody tr th:only-of-type {\n",
       "        vertical-align: middle;\n",
       "    }\n",
       "\n",
       "    .dataframe tbody tr th {\n",
       "        vertical-align: top;\n",
       "    }\n",
       "\n",
       "    .dataframe thead th {\n",
       "        text-align: right;\n",
       "    }\n",
       "</style>\n",
       "<table border=\"1\" class=\"dataframe\">\n",
       "  <thead>\n",
       "    <tr style=\"text-align: right;\">\n",
       "      <th></th>\n",
       "      <th>SEQN</th>\n",
       "      <th>LBXGLU</th>\n",
       "    </tr>\n",
       "  </thead>\n",
       "  <tbody>\n",
       "    <tr>\n",
       "      <th>0</th>\n",
       "      <td>83733</td>\n",
       "      <td>101.0</td>\n",
       "    </tr>\n",
       "    <tr>\n",
       "      <th>1</th>\n",
       "      <td>83734</td>\n",
       "      <td>84.0</td>\n",
       "    </tr>\n",
       "    <tr>\n",
       "      <th>2</th>\n",
       "      <td>83736</td>\n",
       "      <td>84.0</td>\n",
       "    </tr>\n",
       "    <tr>\n",
       "      <th>3</th>\n",
       "      <td>83737</td>\n",
       "      <td>107.0</td>\n",
       "    </tr>\n",
       "    <tr>\n",
       "      <th>4</th>\n",
       "      <td>83741</td>\n",
       "      <td>95.0</td>\n",
       "    </tr>\n",
       "  </tbody>\n",
       "</table>\n",
       "</div>"
      ],
      "text/plain": [
       "    SEQN  LBXGLU\n",
       "0  83733   101.0\n",
       "1  83734    84.0\n",
       "2  83736    84.0\n",
       "3  83737   107.0\n",
       "4  83741    95.0"
      ]
     },
     "execution_count": 61,
     "metadata": {},
     "output_type": "execute_result"
    }
   ],
   "source": [
    "# We see if have the correct excel file imported\n",
    "\n",
    "dataset.head()"
   ]
  },
  {
   "cell_type": "code",
   "execution_count": 58,
   "metadata": {},
   "outputs": [],
   "source": [
    "# We drop all the features we don't need to clean\n",
    "\n",
    "# dataset.drop([\"BMXRECUM\", \"BMXHEAD\", \"BMDSTATS\", \"BMIWT\", \"BMIRECUM\", \"BMIHEAD\", \"BMIHT\", \"BMDBMIC\", \"BMXLEG\", \"BMILEG\", \"BMXARML\", \"BMIARML\", \"BMXARMC\", \"BMIARMC\", \"BMIWAIST\", \"BMXSAD1\", \"BMXSAD2\", \"BMXSAD3\", \"BMDSADCM\", \"BMXSAD4\", \"BMDAVSAD\"], axis=1, inplace=True)\n",
    "# dataset.drop([\"BPQ030\", \"BPD035\", \"BPQ040A\", \"BPQ050A\", \"BPQ056\", \"BPD058\", \"BPQ059\", \"BPQ080\", \"BPQ060\", \"BPQ070\", \"BPQ090D\", \"BPQ100D\"], axis=1, inplace=True)\n",
    "\n",
    "# dataset.drop(dataset.columns.difference([\"SEQN\", \"RIDAGEYR\", \"RIDRETH3\"]), 1, inplace=True)\n",
    "# dataset.drop(dataset.columns.difference([\"SEQN\", \"PAQ665\"]), 1, inplace=True)\n",
    "# dataset.drop(dataset.columns.difference([\"SEQN\", \"LBXTC\"]), 1, inplace=True)\n",
    "# dataset.drop(dataset.columns.difference([\"SEQN\", \"DIQ010\"]), 1, inplace=True)\n",
    "dataset.drop(dataset.columns.difference([\"SEQN\", \"LBXGLU\"]), 1, inplace=True)"
   ]
  },
  {
   "cell_type": "code",
   "execution_count": 62,
   "metadata": {},
   "outputs": [
    {
     "data": {
      "text/plain": [
       "Series([], dtype: float64)"
      ]
     },
     "execution_count": 62,
     "metadata": {},
     "output_type": "execute_result"
    }
   ],
   "source": [
    "# We count how many null/empty values we have for each feature\n",
    "\n",
    "null_columns=dataset.columns[dataset.isnull().any()]\n",
    "dataset[null_columns].isnull().sum()"
   ]
  },
  {
   "cell_type": "code",
   "execution_count": 60,
   "metadata": {},
   "outputs": [],
   "source": [
    "# We delete all the null/empty values of the column specified\n",
    "\n",
    "dataset = dataset.dropna(axis=0, subset=['LBXGLU'])\n",
    "\n",
    "# Re-run this command until all null/empty values from the features we are selecting are removed"
   ]
  },
  {
   "cell_type": "code",
   "execution_count": 63,
   "metadata": {},
   "outputs": [
    {
     "name": "stdout",
     "output_type": "stream",
     "text": [
      "DataFrame is written successfully to Excel File.\n"
     ]
    }
   ],
   "source": [
    "# create excel writer object\n",
    "writer = pd.ExcelWriter('2015-2016-GLU_I.xlsx')\n",
    "\n",
    "# write dataframe to excel\n",
    "dataset.to_excel(writer)\n",
    "\n",
    "# save the excel\n",
    "writer.save()\n",
    "\n",
    "print('DataFrame is written successfully to Excel File.')"
   ]
  },
  {
   "cell_type": "code",
   "execution_count": null,
   "metadata": {},
   "outputs": [],
   "source": []
  }
 ],
 "metadata": {
  "kernelspec": {
   "display_name": "Python 2",
   "language": "python",
   "name": "python2"
  },
  "language_info": {
   "codemirror_mode": {
    "name": "ipython",
    "version": 2
   },
   "file_extension": ".py",
   "mimetype": "text/x-python",
   "name": "python",
   "nbconvert_exporter": "python",
   "pygments_lexer": "ipython2",
   "version": "2.7.18"
  }
 },
 "nbformat": 4,
 "nbformat_minor": 2
}
