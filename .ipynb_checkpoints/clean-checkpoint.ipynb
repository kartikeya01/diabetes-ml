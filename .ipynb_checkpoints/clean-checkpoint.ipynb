{
 "cells": [
  {
   "cell_type": "code",
   "execution_count": 18,
   "metadata": {},
   "outputs": [],
   "source": [
    "# We import the libraries need to read/write the dataset\n",
    "\n",
    "import os\n",
    "import pandas as pd"
   ]
  },
  {
   "cell_type": "code",
   "execution_count": 233,
   "metadata": {},
   "outputs": [],
   "source": [
    "# For clarity, we extarct the path and file name\n",
    "\n",
    "DATASET_PATH = 'NHANES/2017-2018/'\n",
    "EXCEL_FILE = 'TCHOL_J.csv'"
   ]
  },
  {
   "cell_type": "code",
   "execution_count": 234,
   "metadata": {},
   "outputs": [],
   "source": [
    "# We store all the excel data in a variable called dataset\n",
    "\n",
    "data_path = os.path.join(DATASET_PATH, EXCEL_FILE)\n",
    "dataset = pd.read_csv(data_path)"
   ]
  },
  {
   "cell_type": "code",
   "execution_count": 235,
   "metadata": {},
   "outputs": [
    {
     "data": {
      "text/plain": [
       "(7435, 3)"
      ]
     },
     "execution_count": 235,
     "metadata": {},
     "output_type": "execute_result"
    }
   ],
   "source": [
    "# We see if everything got imported properly by measuring the no. of columns and no. of rows\n",
    "\n",
    "dataset.shape"
   ]
  },
  {
   "cell_type": "code",
   "execution_count": 236,
   "metadata": {},
   "outputs": [
    {
     "data": {
      "text/html": [
       "<div>\n",
       "<style scoped>\n",
       "    .dataframe tbody tr th:only-of-type {\n",
       "        vertical-align: middle;\n",
       "    }\n",
       "\n",
       "    .dataframe tbody tr th {\n",
       "        vertical-align: top;\n",
       "    }\n",
       "\n",
       "    .dataframe thead th {\n",
       "        text-align: right;\n",
       "    }\n",
       "</style>\n",
       "<table border=\"1\" class=\"dataframe\">\n",
       "  <thead>\n",
       "    <tr style=\"text-align: right;\">\n",
       "      <th></th>\n",
       "      <th>SEQN</th>\n",
       "      <th>LBXTC</th>\n",
       "      <th>LBDTCSI</th>\n",
       "    </tr>\n",
       "  </thead>\n",
       "  <tbody>\n",
       "    <tr>\n",
       "      <th>0</th>\n",
       "      <td>93705</td>\n",
       "      <td>157.0</td>\n",
       "      <td>4.06</td>\n",
       "    </tr>\n",
       "    <tr>\n",
       "      <th>1</th>\n",
       "      <td>93706</td>\n",
       "      <td>148.0</td>\n",
       "      <td>3.83</td>\n",
       "    </tr>\n",
       "    <tr>\n",
       "      <th>2</th>\n",
       "      <td>93707</td>\n",
       "      <td>189.0</td>\n",
       "      <td>4.89</td>\n",
       "    </tr>\n",
       "    <tr>\n",
       "      <th>3</th>\n",
       "      <td>93708</td>\n",
       "      <td>209.0</td>\n",
       "      <td>5.40</td>\n",
       "    </tr>\n",
       "    <tr>\n",
       "      <th>4</th>\n",
       "      <td>93709</td>\n",
       "      <td>176.0</td>\n",
       "      <td>4.55</td>\n",
       "    </tr>\n",
       "  </tbody>\n",
       "</table>\n",
       "</div>"
      ],
      "text/plain": [
       "    SEQN  LBXTC  LBDTCSI\n",
       "0  93705  157.0     4.06\n",
       "1  93706  148.0     3.83\n",
       "2  93707  189.0     4.89\n",
       "3  93708  209.0     5.40\n",
       "4  93709  176.0     4.55"
      ]
     },
     "execution_count": 236,
     "metadata": {},
     "output_type": "execute_result"
    }
   ],
   "source": [
    "# We see if have the correct excel file imported\n",
    "\n",
    "dataset.head()"
   ]
  },
  {
   "cell_type": "code",
   "execution_count": 237,
   "metadata": {},
   "outputs": [],
   "source": [
    "# We drop all the features we don't need to clean\n",
    "\n",
    "# dataset.drop([\"BMXRECUM\", \"BMXHEAD\", \"BMDSTATS\", \"BMIWT\", \"BMIRECUM\", \"BMIHEAD\", \"BMIHT\", \"BMDBMIC\", \"BMXLEG\", \"BMILEG\", \"BMXARML\", \"BMIARML\", \"BMXARMC\", \"BMIARMC\", \"BMIWAIST\", \"BMXSAD1\", \"BMXSAD2\", \"BMXSAD3\", \"BMDSADCM\", \"BMXSAD4\", \"BMDAVSAD\"], axis=1, inplace=True)\n",
    "# dataset.drop([\"BPQ030\", \"BPD035\", \"BPQ040A\", \"BPQ050A\", \"BPQ056\", \"BPD058\", \"BPQ059\", \"BPQ080\", \"BPQ060\", \"BPQ070\", \"BPQ090D\", \"BPQ100D\"], axis=1, inplace=True)\n",
    "\n",
    "# dataset.drop(dataset.columns.difference([\"SEQN\", \"RIDAGEYR\", \"RIDRETH3\"]), 1, inplace=True)\n",
    "# dataset.drop(dataset.columns.difference([\"SEQN\", \"PAQ665\"]), 1, inplace=True)\n",
    "dataset.drop(dataset.columns.difference([\"SEQN\", \"LBXTC\"]), 1, inplace=True)"
   ]
  },
  {
   "cell_type": "code",
   "execution_count": 241,
   "metadata": {},
   "outputs": [
    {
     "data": {
      "text/plain": [
       "Series([], dtype: float64)"
      ]
     },
     "execution_count": 241,
     "metadata": {},
     "output_type": "execute_result"
    }
   ],
   "source": [
    "# We count how many null/empty values we have for each feature\n",
    "\n",
    "null_columns=dataset.columns[dataset.isnull().any()]\n",
    "dataset[null_columns].isnull().sum()"
   ]
  },
  {
   "cell_type": "code",
   "execution_count": 240,
   "metadata": {},
   "outputs": [],
   "source": [
    "# We delete all the null/empty values of the column specified\n",
    "\n",
    "dataset = dataset.dropna(axis=0, subset=['LBXTC'])\n",
    "\n",
    "# Re-run this command until all null/empty values from the features we are selecting are removed"
   ]
  },
  {
   "cell_type": "code",
   "execution_count": 242,
   "metadata": {},
   "outputs": [
    {
     "name": "stdout",
     "output_type": "stream",
     "text": [
      "DataFrame is written successfully to Excel File.\n"
     ]
    }
   ],
   "source": [
    "# create excel writer object\n",
    "writer = pd.ExcelWriter('2017-2018-TCHOL_J.xlsx')\n",
    "\n",
    "# write dataframe to excel\n",
    "dataset.to_excel(writer)\n",
    "\n",
    "# save the excel\n",
    "writer.save()\n",
    "\n",
    "print('DataFrame is written successfully to Excel File.')"
   ]
  },
  {
   "cell_type": "code",
   "execution_count": null,
   "metadata": {},
   "outputs": [],
   "source": []
  }
 ],
 "metadata": {
  "kernelspec": {
   "display_name": "Python 2",
   "language": "python",
   "name": "python2"
  },
  "language_info": {
   "codemirror_mode": {
    "name": "ipython",
    "version": 2
   },
   "file_extension": ".py",
   "mimetype": "text/x-python",
   "name": "python",
   "nbconvert_exporter": "python",
   "pygments_lexer": "ipython2",
   "version": "2.7.18"
  }
 },
 "nbformat": 4,
 "nbformat_minor": 2
}
