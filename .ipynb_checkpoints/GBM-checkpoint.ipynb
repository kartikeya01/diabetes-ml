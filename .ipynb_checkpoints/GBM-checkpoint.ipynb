{
 "cells": [
  {
   "cell_type": "code",
   "execution_count": 3,
   "metadata": {},
   "outputs": [],
   "source": [
    "import os\n",
    "import pandas as pd\n",
    "import sys\n",
    "import numpy as np\n",
    "import scipy as sp\n",
    "import matplotlib\n",
    "import matplotlib.pyplot as plt\n",
    "import seaborn as sns\n",
    "import sklearn as sk\n",
    "from sklearn.model_selection import train_test_split\n",
    "from sklearn.ensemble import GradientBoostingClassifier"
   ]
  },
  {
   "cell_type": "code",
   "execution_count": 4,
   "metadata": {},
   "outputs": [
    {
     "name": "stdout",
     "output_type": "stream",
     "text": [
      "        SEQN  BMXWT   BMXHT  BMXBMI  BMXWAIST  BPQ020  RIDAGEYR  RIDRETH3  \\\n",
      "0      73559   88.9  175.30    28.9     109.2       1        72         3   \n",
      "1      73564   93.4  161.80    35.7     110.8       1        61         3   \n",
      "2      73568   47.1  152.50    20.3      73.7       2        26         3   \n",
      "3      73574   56.8  158.00    22.8      78.7       2        33         6   \n",
      "4      73577   79.7  166.20    28.9     100.0       2        32         1   \n",
      "5      73580   93.5  161.40    35.9     107.4       2        38         4   \n",
      "6      73581   80.9  185.00    23.6      99.3       2        50         6   \n",
      "7      73596  104.0  164.70    38.3     117.8       1        57         6   \n",
      "8      73598   86.7  165.00    31.8      98.6       2        20         1   \n",
      "9      73600  126.2  185.10    36.8     122.9       1        37         4   \n",
      "10     73607  111.9  169.60    38.9     130.5       1        75         3   \n",
      "11     73610   90.2  176.80    28.9     102.6       2        43         3   \n",
      "12     73618   79.4  155.80    32.7     107.8       2        54         3   \n",
      "13     73619   81.7  173.10    27.3      91.1       2        36         1   \n",
      "14     73621   76.4  176.20    24.6      98.2       2        80         3   \n",
      "15     73638   60.9  156.60    24.8      98.0       1        63         7   \n",
      "16     73639   81.5  164.00    30.3     109.0       2        71         3   \n",
      "17     73640   54.9  157.60    22.1      81.5       1        67         4   \n",
      "18     73642   95.5  159.00    37.8     113.8       2        57         3   \n",
      "19     73647   74.2  163.80    27.7     109.0       2        61         2   \n",
      "20     73655  113.1  190.54    31.2     116.8       1        44         4   \n",
      "21     73656   88.8  178.00    28.0     100.5       2        54         3   \n",
      "22     73659  117.2  159.50    46.1     125.0       1        70         3   \n",
      "23     73661   63.4  173.80    21.0      73.2       2        25         4   \n",
      "24     73663  124.8  194.60    33.0     109.6       2        25         3   \n",
      "25     73667   88.2  174.20    29.1      97.1       2        24         3   \n",
      "26     73668   83.1  160.30    32.3     108.8       2        30         3   \n",
      "27     73674   58.4  164.90    21.5      79.5       2        45         3   \n",
      "28     73676  109.6  170.80    37.6     121.0       2        44         3   \n",
      "29     73677  105.2  169.90    36.4     106.6       1        61         4   \n",
      "...      ...    ...     ...     ...       ...     ...       ...       ...   \n",
      "5338  102702   97.7  178.20    30.8     120.5       1        75         3   \n",
      "5339  102704   98.4  163.40    36.9     108.6       2        52         3   \n",
      "5340  102708   85.8  174.60    28.1     107.2       2        80         3   \n",
      "5341  102720   98.2  181.80    29.7     107.1       1        59         3   \n",
      "5342  102722   68.8  154.90    28.7      97.2       1        62         1   \n",
      "5343  102723   83.0  162.50    31.4     106.4       1        63         6   \n",
      "5344  102730   88.7  165.00    32.6     115.8       2        54         6   \n",
      "5345  102733   97.9  184.20    28.9     103.5       1        61         4   \n",
      "5346  102743   93.7  169.80    32.5     106.9       2        45         1   \n",
      "5347  102750   88.6  167.20    31.7     110.4       1        50         6   \n",
      "5348  102771  105.2  160.60    40.8     126.2       2        60         1   \n",
      "5349  102775  127.4  176.30    41.0     140.2       1        58         3   \n",
      "5350  102786   57.2  155.80    23.6      84.0       2        46         6   \n",
      "5351  102800   69.7  172.00    23.6      91.7       2        65         3   \n",
      "5352  102801   83.4  154.20    35.1     118.4       1        58         4   \n",
      "5353  102807  130.0  182.20    39.2     137.0       1        79         4   \n",
      "5354  102828   80.2  152.50    34.5     118.6       1        80         4   \n",
      "5355  102838  102.0  179.80    31.6     112.7       2        41         7   \n",
      "5356  102855   76.2  169.70    26.5      96.4       2        61         6   \n",
      "5357  102860   69.5  163.80    25.9      94.6       2        63         6   \n",
      "5358  102866   83.4  164.60    30.8     110.3       1        73         3   \n",
      "5359  102869  158.6  180.30    48.8     155.0       1        67         3   \n",
      "5360  102871   44.3  151.20    19.4      79.0       2        80         6   \n",
      "5361  102873  118.1  174.00    39.0     126.7       1        66         4   \n",
      "5362  102875   74.3  170.20    25.6      96.8       1        61         3   \n",
      "5363  102878  102.4  171.50    34.8     115.5       1        61         1   \n",
      "5364  102886   73.1  155.50    30.2      98.0       1        50         6   \n",
      "5365  102895  117.8  181.80    35.6     117.3       1        43         4   \n",
      "5366  102923  106.1  173.90    35.1     128.0       2        43         3   \n",
      "5367  102924  129.2  172.00    43.7     148.1       1        75         3   \n",
      "\n",
      "      MCQ300C  PAQ665  LBXTC  OUTCOME  \n",
      "0           2       1    126        1  \n",
      "1           2       2    168        0  \n",
      "2           2       1    168        0  \n",
      "3           1       1    131        0  \n",
      "4           1       2    182        0  \n",
      "5           2       2    225        0  \n",
      "6           1       2    202        0  \n",
      "7           2       1    151        0  \n",
      "8           1       2    177        0  \n",
      "9           1       1    189        1  \n",
      "10          2       2    161        0  \n",
      "11          2       1    200        0  \n",
      "12          2       1    238        0  \n",
      "13          2       1    162        0  \n",
      "14          2       1    161        0  \n",
      "15          1       2    140        1  \n",
      "16          2       2    210        1  \n",
      "17          2       1    165        0  \n",
      "18          2       1    271        0  \n",
      "19          1       2    127        1  \n",
      "20          1       1    206        0  \n",
      "21          2       2    146        0  \n",
      "22          1       2    241        1  \n",
      "23          1       2    142        0  \n",
      "24          2       2    186        0  \n",
      "25          2       2    187        0  \n",
      "26          2       2    160        0  \n",
      "27          2       1    184        0  \n",
      "28          1       2    254        0  \n",
      "29          1       2    174        0  \n",
      "...       ...     ...    ...      ...  \n",
      "5338        2       1    127        1  \n",
      "5339        2       1    160        1  \n",
      "5340        1       2    126        1  \n",
      "5341        1       2    164        1  \n",
      "5342        2       2    179        1  \n",
      "5343        2       1    178        1  \n",
      "5344        1       2    261        1  \n",
      "5345        1       2    227        1  \n",
      "5346        1       1    123        1  \n",
      "5347        2       1    219        1  \n",
      "5348        1       1    198        1  \n",
      "5349        1       2    160        1  \n",
      "5350        1       1    211        1  \n",
      "5351        1       2    203        1  \n",
      "5352        1       2    133        1  \n",
      "5353        1       2    156        1  \n",
      "5354        1       2    199        1  \n",
      "5355        1       2    139        1  \n",
      "5356        1       2    186        1  \n",
      "5357        1       2    187        1  \n",
      "5358        1       1    159        1  \n",
      "5359        1       2    183        1  \n",
      "5360        2       2    166        1  \n",
      "5361        1       1    148        1  \n",
      "5362        2       2    238        1  \n",
      "5363        1       2    101        1  \n",
      "5364        1       1    210        1  \n",
      "5365        1       2    167        1  \n",
      "5366        1       2    162        1  \n",
      "5367        1       2    210        1  \n",
      "\n",
      "[5368 rows x 12 columns]\n"
     ]
    }
   ],
   "source": [
    "DATASET_PATH = 'DATA/'\n",
    "FILE = 'dataset.csv'\n",
    "\n",
    "data_path = os.path.join(DATASET_PATH, FILE)\n",
    "diabetes = pd.read_csv(data_path)\n",
    "\n",
    "diabetes.head()\n",
    "df = pd.DataFrame(diabetes)\n",
    "print (df)"
   ]
  },
  {
   "cell_type": "code",
   "execution_count": 5,
   "metadata": {},
   "outputs": [
    {
     "name": "stdout",
     "output_type": "stream",
     "text": [
      "              SEQN     BMXWT     BMXHT    BMXBMI  BMXWAIST    BPQ020  \\\n",
      "SEQN      1.000000  0.076881 -0.043852  0.104891  0.151501 -0.135231   \n",
      "BMXWT     0.076881  1.000000  0.440439  0.885301  0.898831 -0.189043   \n",
      "BMXHT    -0.043852  0.440439  1.000000 -0.013342  0.180268  0.024691   \n",
      "BMXBMI    0.104891  0.885301 -0.013342  1.000000  0.908047 -0.219810   \n",
      "BMXWAIST  0.151501  0.898831  0.180268  0.908047  1.000000 -0.287706   \n",
      "BPQ020   -0.135231 -0.189043  0.024691 -0.219810 -0.287706  1.000000   \n",
      "RIDAGEYR  0.191263 -0.028058 -0.134795  0.035357  0.192056 -0.437986   \n",
      "RIDRETH3  0.028472 -0.077518  0.091970 -0.141084 -0.132537 -0.021852   \n",
      "MCQ300C  -0.059780 -0.136606  0.029261 -0.168173 -0.158664  0.088581   \n",
      "PAQ665    0.048937  0.054558 -0.043861  0.083051  0.113196 -0.073746   \n",
      "LBXTC    -0.067215 -0.038006 -0.072234 -0.010527 -0.024833  0.058770   \n",
      "OUTCOME   0.443592  0.189519 -0.016966  0.215919  0.304822 -0.317902   \n",
      "\n",
      "          RIDAGEYR  RIDRETH3   MCQ300C    PAQ665     LBXTC   OUTCOME  \n",
      "SEQN      0.191263  0.028472 -0.059780  0.048937 -0.067215  0.443592  \n",
      "BMXWT    -0.028058 -0.077518 -0.136606  0.054558 -0.038006  0.189519  \n",
      "BMXHT    -0.134795  0.091970  0.029261 -0.043861 -0.072234 -0.016966  \n",
      "BMXBMI    0.035357 -0.141084 -0.168173  0.083051 -0.010527  0.215919  \n",
      "BMXWAIST  0.192056 -0.132537 -0.158664  0.113196 -0.024833  0.304822  \n",
      "BPQ020   -0.437986 -0.021852  0.088581 -0.073746  0.058770 -0.317902  \n",
      "RIDAGEYR  1.000000 -0.042877 -0.018514  0.077496  0.019576  0.374607  \n",
      "RIDRETH3 -0.042877  1.000000  0.031263 -0.045604 -0.023409 -0.001115  \n",
      "MCQ300C  -0.018514  0.031263  1.000000 -0.016174  0.025697 -0.157435  \n",
      "PAQ665    0.077496 -0.045604 -0.016174  1.000000 -0.015921  0.096519  \n",
      "LBXTC     0.019576 -0.023409  0.025697 -0.015921  1.000000 -0.128104  \n",
      "OUTCOME   0.374607 -0.001115 -0.157435  0.096519 -0.128104  1.000000  \n"
     ]
    },
    {
     "data": {
      "image/png": "[encoded data removed]",
      "text/plain": [
       "<Figure size 432x288 with 2 Axes>"
      ]
     },
     "metadata": {
      "needs_background": "light"
     },
     "output_type": "display_data"
    }
   ],
   "source": [
    "corrMatrix = df.corr()\n",
    "print (corrMatrix)\n",
    "\n",
    "sns.heatmap(corrMatrix, annot=True)\n",
    "plt.show()\n",
    "\n"
   ]
  },
  {
   "cell_type": "code",
   "execution_count": 6,
   "metadata": {},
   "outputs": [],
   "source": [
    "X_train, X_test, y_train, y_test = train_test_split(diabetes.loc[:, diabetes.columns != 'OUTCOME'], diabetes['OUTCOME'], stratify=diabetes['OUTCOME'], random_state=42)\n"
   ]
  },
  {
   "cell_type": "code",
   "execution_count": 7,
   "metadata": {},
   "outputs": [
    {
     "name": "stderr",
     "output_type": "stream",
     "text": [
      "c:\\python27\\lib\\site-packages\\sklearn\\preprocessing\\label.py:219: DataConversionWarning: A column-vector y was passed when a 1d array was expected. Please change the shape of y to (n_samples, ), for example using ravel().\n",
      "  y = column_or_1d(y, warn=True)\n",
      "c:\\python27\\lib\\site-packages\\sklearn\\preprocessing\\label.py:252: DataConversionWarning: A column-vector y was passed when a 1d array was expected. Please change the shape of y to (n_samples, ), for example using ravel().\n",
      "  y = column_or_1d(y, warn=True)\n"
     ]
    },
    {
     "data": {
      "image/png": "[encoded data removed]",
      "text/plain": [
       "<Figure size 432x288 with 1 Axes>"
      ]
     },
     "metadata": {
      "needs_background": "light"
     },
     "output_type": "display_data"
    }
   ],
   "source": [
    "# plot feature importance manually\n",
    "from xgboost import XGBClassifier\n",
    "from xgboost import plot_importance\n",
    "from matplotlib import pyplot\n",
    "\n",
    "# split data into X and y\n",
    "X = df[['BMXWT', 'BMXHT', 'BMXBMI', 'BMXWAIST', 'BPQ020', 'RIDAGEYR', 'RIDRETH3', 'MCQ300C', 'PAQ665', 'LBXTC']]\n",
    "y = df[['OUTCOME']]\n",
    "# fit model no training data\n",
    "model = XGBClassifier()\n",
    "model.fit(X, y)\n",
    "# plot feature importance\n",
    "plot_importance(model)\n",
    "pyplot.show()"
   ]
  },
  {
   "cell_type": "code",
   "execution_count": 8,
   "metadata": {},
   "outputs": [
    {
     "data": {
      "text/plain": [
       "DecisionTreeClassifier(class_weight=None, criterion='entropy', max_depth=8,\n",
       "            max_features='auto', max_leaf_nodes=None,\n",
       "            min_impurity_decrease=0.0, min_impurity_split=None,\n",
       "            min_samples_leaf=1, min_samples_split=2,\n",
       "            min_weight_fraction_leaf=0.0, presort=False, random_state=None,\n",
       "            splitter='best')"
      ]
     },
     "execution_count": 8,
     "metadata": {},
     "output_type": "execute_result"
    }
   ],
   "source": [
    "from sklearn.tree import DecisionTreeClassifier\n",
    "\n",
    "X = df[['BMXWT', 'BMXHT', 'BMXBMI', 'BMXWAIST', 'BPQ020', 'RIDAGEYR', 'RIDRETH3', 'MCQ300C', 'PAQ665', 'LBXTC']]\n",
    "y = df[['OUTCOME']]\n",
    "\n",
    "\n",
    "dtree=DecisionTreeClassifier(criterion='entropy', max_depth=8, max_features=\"auto\")\n",
    "dtree.fit(X,y)"
   ]
  },
  {
   "cell_type": "code",
   "execution_count": 9,
   "metadata": {},
   "outputs": [
    {
     "data": {
      "text/plain": [
       "True"
      ]
     },
     "execution_count": 9,
     "metadata": {},
     "output_type": "execute_result"
    }
   ],
   "source": [
    "from sklearn.externals.six import StringIO  \n",
    "from IPython.display import Image  \n",
    "from sklearn.tree import export_graphviz\n",
    "import pydotplus\n",
    "\n",
    "dot_data = StringIO()\n",
    "export_graphviz(dtree, out_file=dot_data,  \n",
    "                filled=True, rounded=True,\n",
    "                special_characters=True)\n",
    "graph = pydotplus.graph_from_dot_data(dot_data.getvalue())  \n",
    "# Image(graph.create_png())\n",
    "\n",
    "# Create PDF\n",
    "graph.write_pdf(\"decision_tree_v4.pdf\")\n",
    "\n",
    "# Create PNG\n",
    "graph.write_png(\"decision_tree_v4.png\")"
   ]
  },
  {
   "cell_type": "code",
   "execution_count": 10,
   "metadata": {},
   "outputs": [],
   "source": [
    "import pandas as pd\n",
    "from sklearn.preprocessing import MinMaxScaler\n",
    "from sklearn.model_selection import train_test_split\n",
    "from sklearn.metrics import classification_report, confusion_matrix\n",
    "from sklearn.ensemble import GradientBoostingClassifier"
   ]
  },
  {
   "cell_type": "code",
   "execution_count": 11,
   "metadata": {},
   "outputs": [],
   "source": [
    "X_train, X_test, y_train, y_test = train_test_split(diabetes.loc[:, diabetes.columns != 'OUTCOME'], diabetes['OUTCOME'], stratify=diabetes['OUTCOME'], random_state = 12)"
   ]
  },
  {
   "cell_type": "code",
   "execution_count": 12,
   "metadata": {},
   "outputs": [
    {
     "name": "stderr",
     "output_type": "stream",
     "text": [
      "c:\\python27\\lib\\site-packages\\sklearn\\preprocessing\\data.py:334: DataConversionWarning: Data with input dtype int64, float64 were all converted to float64 by MinMaxScaler.\n",
      "  return self.partial_fit(X, y)\n"
     ]
    }
   ],
   "source": [
    "scaler = MinMaxScaler()\n",
    "X_train = scaler.fit_transform(X_train)\n",
    "X_test = scaler.transform(X_test)"
   ]
  },
  {
   "cell_type": "code",
   "execution_count": 16,
   "metadata": {},
   "outputs": [
    {
     "name": "stdout",
     "output_type": "stream",
     "text": [
      "('Learning rate: ', 0.15)\n",
      "Accuracy score (training): 0.855\n",
      "Accuracy score (validation): 0.848\n",
      "('Learning rate: ', 0.1)\n",
      "Accuracy score (training): 0.846\n",
      "Accuracy score (validation): 0.842\n",
      "('Learning rate: ', 0.05)\n",
      "Accuracy score (training): 0.814\n",
      "Accuracy score (validation): 0.812\n",
      "('Learning rate: ', 0.01)\n",
      "Accuracy score (training): 0.709\n",
      "Accuracy score (validation): 0.709\n",
      "('Learning rate: ', 0.005)\n",
      "Accuracy score (training): 0.709\n",
      "Accuracy score (validation): 0.709\n",
      "('Learning rate: ', 0.001)\n",
      "Accuracy score (training): 0.709\n",
      "Accuracy score (validation): 0.709\n"
     ]
    }
   ],
   "source": [
    "learning_rate_list = [0.15,0.1,0.05,0.01,0.005,0.001]\n",
    "\n",
    "for learning_rate in learning_rate_list:\n",
    "    gb_clf = GradientBoostingClassifier(n_estimators=20, learning_rate=learning_rate, max_features=2, max_depth=2, random_state=0)\n",
    "    gb_clf.fit(X_train, y_train)\n",
    "\n",
    "    print(\"Learning rate: \", learning_rate)\n",
    "    print(\"Accuracy score (training): {0:.3f}\".format(gb_clf.score(X_train, y_train)))\n",
    "    print(\"Accuracy score (validation): {0:.3f}\".format(gb_clf.score(X_test, y_test)))"
   ]
  },
  {
   "cell_type": "code",
   "execution_count": 26,
   "metadata": {},
   "outputs": [
    {
     "name": "stdout",
     "output_type": "stream",
     "text": [
      "('Max depth: ', 2)\n",
      "Accuracy score (training): 0.855\n",
      "Accuracy score (validation): 0.848\n",
      "('Max depth: ', 3)\n",
      "Accuracy score (training): 0.858\n",
      "Accuracy score (validation): 0.852\n",
      "('Max depth: ', 4)\n",
      "Accuracy score (training): 0.867\n",
      "Accuracy score (validation): 0.854\n",
      "('Max depth: ', 5)\n",
      "Accuracy score (training): 0.880\n",
      "Accuracy score (validation): 0.852\n",
      "('Max depth: ', 6)\n",
      "Accuracy score (training): 0.893\n",
      "Accuracy score (validation): 0.852\n",
      "('Max depth: ', 7)\n",
      "Accuracy score (training): 0.922\n",
      "Accuracy score (validation): 0.853\n"
     ]
    }
   ],
   "source": [
    "max_depth_list = [2,3,4,5,6,7]\n",
    "\n",
    "for max_depth in max_depth_list:\n",
    "    gb_clf = GradientBoostingClassifier(n_estimators=20, learning_rate=0.15, max_features=2, max_depth=max_depth, random_state=0)\n",
    "    gb_clf.fit(X_train, y_train)\n",
    "\n",
    "    print(\"Max depth: \", max_depth)\n",
    "    print(\"Accuracy score (training): {0:.3f}\".format(gb_clf.score(X_train, y_train)))\n",
    "    print(\"Accuracy score (validation): {0:.3f}\".format(gb_clf.score(X_test, y_test)))"
   ]
  },
  {
   "cell_type": "code",
   "execution_count": 31,
   "metadata": {},
   "outputs": [
    {
     "name": "stdout",
     "output_type": "stream",
     "text": [
      "('N estimators: ', 100)\n",
      "Accuracy score (training): 0.913\n",
      "Accuracy score (validation): 0.844\n",
      "('N estimators: ', 250)\n",
      "Accuracy score (training): 0.962\n",
      "Accuracy score (validation): 0.842\n",
      "('N estimators: ', 500)\n",
      "Accuracy score (training): 0.997\n",
      "Accuracy score (validation): 0.840\n",
      "('N estimators: ', 750)\n",
      "Accuracy score (training): 1.000\n",
      "Accuracy score (validation): 0.836\n",
      "('N estimators: ', 1000)\n",
      "Accuracy score (training): 1.000\n",
      "Accuracy score (validation): 0.838\n",
      "('N estimators: ', 1250)\n",
      "Accuracy score (training): 1.000\n",
      "Accuracy score (validation): 0.836\n",
      "('N estimators: ', 1500)\n",
      "Accuracy score (training): 1.000\n",
      "Accuracy score (validation): 0.833\n",
      "('N estimators: ', 1750)\n",
      "Accuracy score (training): 1.000\n",
      "Accuracy score (validation): 0.837\n"
     ]
    }
   ],
   "source": [
    "n_estimators_list = [100,250,500,750,1000,1250,1500,1750]\n",
    "\n",
    "for n_estimators in n_estimators_list:\n",
    "    gb_clf = GradientBoostingClassifier(n_estimators=n_estimators, learning_rate=0.15, max_features=2, max_depth=4, random_state=0)\n",
    "    gb_clf.fit(X_train, y_train)\n",
    "\n",
    "    print(\"N estimators: \", n_estimators)\n",
    "    print(\"Accuracy score (training): {0:.3f}\".format(gb_clf.score(X_train, y_train)))\n",
    "    print(\"Accuracy score (validation): {0:.3f}\".format(gb_clf.score(X_test, y_test)))"
   ]
  },
  {
   "cell_type": "code",
   "execution_count": 32,
   "metadata": {},
   "outputs": [
    {
     "name": "stdout",
     "output_type": "stream",
     "text": [
      "Confusion Matrix:\n",
      "[[895  57]\n",
      " [152 238]]\n",
      "Classification Report\n",
      "              precision    recall  f1-score   support\n",
      "\n",
      "           0       0.85      0.94      0.90       952\n",
      "           1       0.81      0.61      0.69       390\n",
      "\n",
      "   micro avg       0.84      0.84      0.84      1342\n",
      "   macro avg       0.83      0.78      0.80      1342\n",
      "weighted avg       0.84      0.84      0.84      1342\n",
      "\n"
     ]
    }
   ],
   "source": [
    "gb_clf2 = GradientBoostingClassifier(n_estimators=100, learning_rate=0.15, max_features=2, max_depth=4, random_state=0)\n",
    "gb_clf2.fit(X_train, y_train)\n",
    "predictions = gb_clf2.predict(X_test)\n",
    "\n",
    "print(\"Confusion Matrix:\")\n",
    "print(confusion_matrix(y_test, predictions))\n",
    "\n",
    "print(\"Classification Report\")\n",
    "print(classification_report(y_test, predictions))"
   ]
  },
  {
   "cell_type": "code",
   "execution_count": 33,
   "metadata": {},
   "outputs": [],
   "source": [
    "from xgboost import XGBClassifier\n"
   ]
  },
  {
   "cell_type": "code",
   "execution_count": 34,
   "metadata": {},
   "outputs": [
    {
     "data": {
      "text/plain": [
       "XGBClassifier(base_score=0.5, booster='gbtree', colsample_bylevel=1,\n",
       "       colsample_bytree=1, gamma=0, learning_rate=0.15, max_delta_step=0,\n",
       "       max_depth=4, min_child_weight=1, missing=None, n_estimators=100,\n",
       "       n_jobs=1, nthread=None, objective='binary:logistic', random_state=0,\n",
       "       reg_alpha=0, reg_lambda=1, scale_pos_weight=1, seed=None,\n",
       "       silent=True, subsample=1)"
      ]
     },
     "execution_count": 34,
     "metadata": {},
     "output_type": "execute_result"
    }
   ],
   "source": [
    "xgb_clf = XGBClassifier(learning_rate =0.15, max_depth=4, n_estimators=100)\n",
    "xgb_clf.fit(X_train, y_train)"
   ]
  },
  {
   "cell_type": "code",
   "execution_count": 35,
   "metadata": {},
   "outputs": [
    {
     "name": "stdout",
     "output_type": "stream",
     "text": [
      "0.8502235469448585\n"
     ]
    }
   ],
   "source": [
    "score = xgb_clf.score(X_test, y_test)\n",
    "print(score)"
   ]
  },
  {
   "cell_type": "code",
   "execution_count": null,
   "metadata": {},
   "outputs": [],
   "source": []
  }
 ],
 "metadata": {
  "kernelspec": {
   "display_name": "Python 2",
   "language": "python",
   "name": "python2"
  },
  "language_info": {
   "codemirror_mode": {
    "name": "ipython",
    "version": 2
   },
   "file_extension": ".py",
   "mimetype": "text/x-python",
   "name": "python",
   "nbconvert_exporter": "python",
   "pygments_lexer": "ipython2",
   "version": "2.7.18"
  }
 },
 "nbformat": 4,
 "nbformat_minor": 2
}
