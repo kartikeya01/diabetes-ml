{
 "cells": [
  {
   "cell_type": "code",
   "execution_count": 1,
   "metadata": {},
   "outputs": [],
   "source": [
    "import os\n",
    "import pandas as pd\n",
    "import numpy as np\n",
    "import matplotlib.pyplot as plt\n",
    "%matplotlib inline"
   ]
  },
  {
   "cell_type": "code",
   "execution_count": 2,
   "metadata": {},
   "outputs": [],
   "source": [
    "# For clarity, we extarct the path and file name\n",
    "DATASET_PATH = 'DATA/'\n",
    "FILE1 = 'dataset.csv'"
   ]
  },
  {
   "cell_type": "code",
   "execution_count": 3,
   "metadata": {},
   "outputs": [
    {
     "name": "stdout",
     "output_type": "stream",
     "text": [
      "Index([u'SEQN', u'BMXWT', u'BMXHT', u'BMXBMI', u'BMXWAIST', u'BPQ020',\n",
      "       u'RIDAGEYR', u'RIDRETH3', u'MCQ300C', u'PAQ665', u'LBXTC', u'OUTCOME'],\n",
      "      dtype='object')\n"
     ]
    }
   ],
   "source": [
    "# We store all the excel data in a variable called dataset\n",
    "data_path_1 = os.path.join(DATASET_PATH, FILE1)\n",
    "diabetes = pd.read_csv(data_path_1)\n",
    "print(diabetes.columns)"
   ]
  },
  {
   "cell_type": "code",
   "execution_count": 4,
   "metadata": {},
   "outputs": [
    {
     "name": "stdout",
     "output_type": "stream",
     "text": [
      "('The shape of the first dataset is: ', (5368, 12))\n"
     ]
    }
   ],
   "source": [
    "print('The shape of the first dataset is: ', diabetes.shape)\n"
   ]
  },
  {
   "cell_type": "code",
   "execution_count": 5,
   "metadata": {},
   "outputs": [
    {
     "data": {
      "text/html": [
       "<div>\n",
       "<style scoped>\n",
       "    .dataframe tbody tr th:only-of-type {\n",
       "        vertical-align: middle;\n",
       "    }\n",
       "\n",
       "    .dataframe tbody tr th {\n",
       "        vertical-align: top;\n",
       "    }\n",
       "\n",
       "    .dataframe thead th {\n",
       "        text-align: right;\n",
       "    }\n",
       "</style>\n",
       "<table border=\"1\" class=\"dataframe\">\n",
       "  <thead>\n",
       "    <tr style=\"text-align: right;\">\n",
       "      <th></th>\n",
       "      <th>SEQN</th>\n",
       "      <th>BMXWT</th>\n",
       "      <th>BMXHT</th>\n",
       "      <th>BMXBMI</th>\n",
       "      <th>BMXWAIST</th>\n",
       "      <th>BPQ020</th>\n",
       "      <th>RIDAGEYR</th>\n",
       "      <th>RIDRETH3</th>\n",
       "      <th>MCQ300C</th>\n",
       "      <th>PAQ665</th>\n",
       "      <th>LBXTC</th>\n",
       "      <th>OUTCOME</th>\n",
       "    </tr>\n",
       "  </thead>\n",
       "  <tbody>\n",
       "    <tr>\n",
       "      <th>0</th>\n",
       "      <td>73559</td>\n",
       "      <td>88.9</td>\n",
       "      <td>175.3</td>\n",
       "      <td>28.9</td>\n",
       "      <td>109.2</td>\n",
       "      <td>1</td>\n",
       "      <td>72</td>\n",
       "      <td>3</td>\n",
       "      <td>2</td>\n",
       "      <td>1</td>\n",
       "      <td>126</td>\n",
       "      <td>1</td>\n",
       "    </tr>\n",
       "    <tr>\n",
       "      <th>1</th>\n",
       "      <td>73564</td>\n",
       "      <td>93.4</td>\n",
       "      <td>161.8</td>\n",
       "      <td>35.7</td>\n",
       "      <td>110.8</td>\n",
       "      <td>1</td>\n",
       "      <td>61</td>\n",
       "      <td>3</td>\n",
       "      <td>2</td>\n",
       "      <td>2</td>\n",
       "      <td>168</td>\n",
       "      <td>0</td>\n",
       "    </tr>\n",
       "    <tr>\n",
       "      <th>2</th>\n",
       "      <td>73568</td>\n",
       "      <td>47.1</td>\n",
       "      <td>152.5</td>\n",
       "      <td>20.3</td>\n",
       "      <td>73.7</td>\n",
       "      <td>2</td>\n",
       "      <td>26</td>\n",
       "      <td>3</td>\n",
       "      <td>2</td>\n",
       "      <td>1</td>\n",
       "      <td>168</td>\n",
       "      <td>0</td>\n",
       "    </tr>\n",
       "    <tr>\n",
       "      <th>3</th>\n",
       "      <td>73574</td>\n",
       "      <td>56.8</td>\n",
       "      <td>158.0</td>\n",
       "      <td>22.8</td>\n",
       "      <td>78.7</td>\n",
       "      <td>2</td>\n",
       "      <td>33</td>\n",
       "      <td>6</td>\n",
       "      <td>1</td>\n",
       "      <td>1</td>\n",
       "      <td>131</td>\n",
       "      <td>0</td>\n",
       "    </tr>\n",
       "    <tr>\n",
       "      <th>4</th>\n",
       "      <td>73577</td>\n",
       "      <td>79.7</td>\n",
       "      <td>166.2</td>\n",
       "      <td>28.9</td>\n",
       "      <td>100.0</td>\n",
       "      <td>2</td>\n",
       "      <td>32</td>\n",
       "      <td>1</td>\n",
       "      <td>1</td>\n",
       "      <td>2</td>\n",
       "      <td>182</td>\n",
       "      <td>0</td>\n",
       "    </tr>\n",
       "  </tbody>\n",
       "</table>\n",
       "</div>"
      ],
      "text/plain": [
       "    SEQN  BMXWT  BMXHT  BMXBMI  BMXWAIST  BPQ020  RIDAGEYR  RIDRETH3  MCQ300C  \\\n",
       "0  73559   88.9  175.3    28.9     109.2       1        72         3        2   \n",
       "1  73564   93.4  161.8    35.7     110.8       1        61         3        2   \n",
       "2  73568   47.1  152.5    20.3      73.7       2        26         3        2   \n",
       "3  73574   56.8  158.0    22.8      78.7       2        33         6        1   \n",
       "4  73577   79.7  166.2    28.9     100.0       2        32         1        1   \n",
       "\n",
       "   PAQ665  LBXTC  OUTCOME  \n",
       "0       1    126        1  \n",
       "1       2    168        0  \n",
       "2       1    168        0  \n",
       "3       1    131        0  \n",
       "4       2    182        0  "
      ]
     },
     "execution_count": 5,
     "metadata": {},
     "output_type": "execute_result"
    }
   ],
   "source": [
    "diabetes.head()"
   ]
  },
  {
   "cell_type": "code",
   "execution_count": 6,
   "metadata": {},
   "outputs": [
    {
     "name": "stdout",
     "output_type": "stream",
     "text": [
      "OUTCOME\n",
      "0    3808\n",
      "1    1560\n",
      "dtype: int64\n"
     ]
    }
   ],
   "source": [
    "print(diabetes.groupby('OUTCOME').size())\n"
   ]
  },
  {
   "cell_type": "code",
   "execution_count": 7,
   "metadata": {},
   "outputs": [
    {
     "data": {
      "text/plain": [
       "<matplotlib.axes._subplots.AxesSubplot at 0x1ae33748>"
      ]
     },
     "execution_count": 7,
     "metadata": {},
     "output_type": "execute_result"
    },
    {
     "data": {
      "image/png": "[encoded data removed]",
      "text/plain": [
       "<Figure size 432x288 with 1 Axes>"
      ]
     },
     "metadata": {
      "needs_background": "light"
     },
     "output_type": "display_data"
    }
   ],
   "source": [
    "import seaborn as sns\n",
    "sns.countplot(diabetes['OUTCOME'],label=\"Count\")\n"
   ]
  },
  {
   "cell_type": "code",
   "execution_count": 8,
   "metadata": {},
   "outputs": [
    {
     "name": "stdout",
     "output_type": "stream",
     "text": [
      "<class 'pandas.core.frame.DataFrame'>\n",
      "RangeIndex: 5368 entries, 0 to 5367\n",
      "Data columns (total 12 columns):\n",
      "SEQN        5368 non-null int64\n",
      "BMXWT       5368 non-null float64\n",
      "BMXHT       5368 non-null float64\n",
      "BMXBMI      5368 non-null float64\n",
      "BMXWAIST    5368 non-null float64\n",
      "BPQ020      5368 non-null int64\n",
      "RIDAGEYR    5368 non-null int64\n",
      "RIDRETH3    5368 non-null int64\n",
      "MCQ300C     5368 non-null int64\n",
      "PAQ665      5368 non-null int64\n",
      "LBXTC       5368 non-null int64\n",
      "OUTCOME     5368 non-null int64\n",
      "dtypes: float64(4), int64(8)\n",
      "memory usage: 503.3 KB\n"
     ]
    }
   ],
   "source": [
    "diabetes.info()\n"
   ]
  },
  {
   "cell_type": "code",
   "execution_count": 8,
   "metadata": {},
   "outputs": [],
   "source": [
    "# train/test\n",
    "\n",
    "import pandas as pd\n",
    "from sklearn import datasets, linear_model\n",
    "from sklearn.model_selection import train_test_split\n",
    "from matplotlib import pyplot as plt"
   ]
  },
  {
   "cell_type": "code",
   "execution_count": 12,
   "metadata": {},
   "outputs": [
    {
     "name": "stdout",
     "output_type": "stream",
     "text": [
      "        SEQN  BMXWT  BMXHT  BMXBMI  BMXWAIST  BPQ020  RIDAGEYR  RIDRETH3  \\\n",
      "3601   89035   61.0  159.9    23.9      90.4       2        80         1   \n",
      "3392   88097   93.8  167.9    33.3     107.4       2        75         3   \n",
      "2330   83542   90.9  160.9    35.1     110.3       1        71         4   \n",
      "4019   90929   86.9  156.3    35.6     115.6       1        65         7   \n",
      "2247   83153   52.8  168.7    18.6      68.0       2        20         6   \n",
      "2670   84978   50.4  151.9    21.8      84.6       2        60         2   \n",
      "1222   78929   68.6  157.6    27.6      98.5       1        71         1   \n",
      "3495   88575  101.3  182.8    30.3     103.2       2        48         3   \n",
      "4735   94885  121.9  182.2    36.7     130.3       1        64         4   \n",
      "177    74310   65.1  152.9    27.8      92.0       2        60         6   \n",
      "4843   96124   67.3  156.5    27.5     101.2       2        52         6   \n",
      "1206   78872   73.9  150.9    32.5     108.0       2        28         1   \n",
      "4980   97752  114.9  173.2    38.3     130.5       1        77         3   \n",
      "4272   92076  127.4  174.9    41.6     136.1       1        59         3   \n",
      "3239   87406   71.2  172.7    23.9      84.2       2        22         6   \n",
      "1483   80020   60.0  158.2    24.0      81.3       2        31         4   \n",
      "154    74226   48.3  163.4    18.1      65.4       2        20         6   \n",
      "1011   78001   57.0  163.5    21.3      74.1       2        31         3   \n",
      "863    77423   80.0  169.9    27.7     103.0       2        74         3   \n",
      "4208   91799   97.8  177.3    31.1     117.2       1        66         7   \n",
      "974    77843  106.6  169.1    37.3     119.6       2        42         1   \n",
      "531    75964   64.6  173.5    21.5      85.3       1        71         3   \n",
      "1213   78899   77.1  179.3    24.0      94.0       1        80         3   \n",
      "5291  101989   70.4  161.5    27.0     105.9       1        80         1   \n",
      "140    74176   50.1  154.3    21.0      80.1       2        51         6   \n",
      "4398   92620   84.0  169.6    29.2     100.0       1        37         6   \n",
      "3853   90113  105.8  164.8    39.0     115.4       2        27         4   \n",
      "2554   84511   55.0  154.2    23.1      85.7       1        78         3   \n",
      "5352  102801   83.4  154.2    35.1     118.4       1        58         4   \n",
      "949    77746   79.4  183.6    23.6      85.0       2        36         3   \n",
      "...      ...    ...    ...     ...       ...     ...       ...       ...   \n",
      "2867   85813   73.4  167.7    26.1     104.2       1        80         3   \n",
      "4675   94138   58.8  152.9    25.2      88.8       1        72         6   \n",
      "975    77851   99.1  182.5    29.8     106.6       2        45         1   \n",
      "5293  102002  168.3  175.5    54.6     155.7       1        77         3   \n",
      "3656   89271  140.4  181.8    42.5     132.6       1        57         3   \n",
      "2036   82278   66.2  179.0    20.7      81.2       2        20         3   \n",
      "3030   86565  147.0  178.9    45.9     142.8       1        66         3   \n",
      "352    75160   72.7  171.4    24.7      98.2       2        64         3   \n",
      "489    75744   60.5  157.5    24.4     101.0       1        72         3   \n",
      "351    75159   75.4  165.8    27.4     101.6       2        68         3   \n",
      "33     73697   57.9  160.5    22.5      81.3       2        57         3   \n",
      "4267   92062   66.5  155.7    27.4      92.5       2        40         1   \n",
      "5199  100617   96.4  185.6    28.0     116.0       1        76         3   \n",
      "2430   83954   78.4  174.1    25.9      94.6       1        53         3   \n",
      "3174   87123   60.6  159.0    24.0      88.5       2        68         3   \n",
      "3443   88327   72.9  162.4    27.6      92.8       2        51         1   \n",
      "4779   95330   76.9  175.1    25.1     101.3       1        77         4   \n",
      "1046   78146  137.8  169.1    48.2     138.8       2        33         3   \n",
      "4081   91197   49.7  164.7    18.3      76.4       2        64         6   \n",
      "1774   81168   49.2  160.9    19.0      69.6       2        28         6   \n",
      "5360  102871   44.3  151.2    19.4      79.0       2        80         6   \n",
      "5068   98929   96.5  166.2    34.9     111.6       1        62         1   \n",
      "3971   90700  100.0  168.5    35.2     110.5       2        40         4   \n",
      "2953   86208   85.4  180.4    26.2      97.1       2        53         3   \n",
      "191    74349   69.8  155.2    29.0      94.4       1        57         2   \n",
      "4016   90913   80.2  178.5    25.2      91.3       2        25         6   \n",
      "4394   92595   62.0  145.8    29.2     101.4       1        80         4   \n",
      "2012   82152   72.4  174.6    23.7      85.0       2        53         4   \n",
      "5123   99630  101.5  180.2    31.3     107.9       2        73         3   \n",
      "3114   86887   86.2  168.9    30.2     104.1       1        58         2   \n",
      "\n",
      "      MCQ300C  PAQ665  LBXTC  \n",
      "3601        2       2    212  \n",
      "3392        1       2    215  \n",
      "2330        1       2    168  \n",
      "4019        1       2    118  \n",
      "2247        2       2    132  \n",
      "2670        2       2    204  \n",
      "1222        2       2    178  \n",
      "3495        1       2    209  \n",
      "4735        2       1    149  \n",
      "177         2       1    172  \n",
      "4843        2       2    240  \n",
      "1206        1       1    165  \n",
      "4980        2       2    123  \n",
      "4272        1       2    163  \n",
      "3239        2       2    154  \n",
      "1483        2       2    184  \n",
      "154         2       2    180  \n",
      "1011        2       1    159  \n",
      "863         2       1    125  \n",
      "4208        2       2    179  \n",
      "974         1       2    230  \n",
      "531         2       2    165  \n",
      "1213        1       2    219  \n",
      "5291        1       2    139  \n",
      "140         2       2    227  \n",
      "4398        1       2    197  \n",
      "3853        1       2    254  \n",
      "2554        2       2    225  \n",
      "5352        1       2    133  \n",
      "949         1       2    137  \n",
      "...       ...     ...    ...  \n",
      "2867        2       1    208  \n",
      "4675        1       2    148  \n",
      "975         1       1    197  \n",
      "5293        2       2    218  \n",
      "3656        1       1    213  \n",
      "2036        2       1    193  \n",
      "3030        2       1    150  \n",
      "352         2       2    234  \n",
      "489         2       2    155  \n",
      "351         1       2    196  \n",
      "33          1       1    198  \n",
      "4267        1       2    151  \n",
      "5199        2       2    142  \n",
      "2430        1       1    214  \n",
      "3174        2       1    157  \n",
      "3443        1       2    214  \n",
      "4779        1       2    165  \n",
      "1046        2       2    195  \n",
      "4081        2       1    175  \n",
      "1774        2       2    160  \n",
      "5360        2       2    166  \n",
      "5068        1       2    142  \n",
      "3971        1       1    215  \n",
      "2953        2       1    250  \n",
      "191         1       2    235  \n",
      "4016        2       2    247  \n",
      "4394        2       2    146  \n",
      "2012        2       2    139  \n",
      "5123        2       2    137  \n",
      "3114        1       1    131  \n",
      "\n",
      "[4026 rows x 11 columns]\n",
      "3601    0\n",
      "3392    0\n",
      "2330    1\n",
      "4019    1\n",
      "2247    0\n",
      "2670    0\n",
      "1222    0\n",
      "3495    0\n",
      "4735    1\n",
      "177     1\n",
      "4843    1\n",
      "1206    0\n",
      "4980    1\n",
      "4272    0\n",
      "3239    0\n",
      "1483    0\n",
      "154     0\n",
      "1011    0\n",
      "863     1\n",
      "4208    0\n",
      "974     1\n",
      "531     0\n",
      "1213    1\n",
      "5291    1\n",
      "140     0\n",
      "4398    0\n",
      "3853    1\n",
      "2554    0\n",
      "5352    1\n",
      "949     0\n",
      "       ..\n",
      "2867    0\n",
      "4675    1\n",
      "975     0\n",
      "5293    1\n",
      "3656    0\n",
      "2036    0\n",
      "3030    0\n",
      "352     0\n",
      "489     0\n",
      "351     0\n",
      "33      0\n",
      "4267    0\n",
      "5199    1\n",
      "2430    0\n",
      "3174    0\n",
      "3443    0\n",
      "4779    1\n",
      "1046    0\n",
      "4081    0\n",
      "1774    0\n",
      "5360    1\n",
      "5068    1\n",
      "3971    1\n",
      "2953    0\n",
      "191     0\n",
      "4016    0\n",
      "4394    0\n",
      "2012    0\n",
      "5123    1\n",
      "3114    0\n",
      "Name: OUTCOME, Length: 4026, dtype: int64\n",
      "(1342, 11)\n",
      "2730    0\n",
      "3346    0\n",
      "4679    1\n",
      "3618    1\n",
      "1162    1\n",
      "3052    1\n",
      "2205    0\n",
      "2253    0\n",
      "5147    1\n",
      "925     0\n",
      "1378    1\n",
      "5029    1\n",
      "2311    1\n",
      "2578    0\n",
      "3212    1\n",
      "3949    0\n",
      "2621    0\n",
      "4942    1\n",
      "3857    0\n",
      "2910    1\n",
      "4171    0\n",
      "5335    1\n",
      "1003    1\n",
      "2800    0\n",
      "895     0\n",
      "4309    0\n",
      "2701    0\n",
      "2081    0\n",
      "1014    0\n",
      "2875    0\n",
      "       ..\n",
      "446     0\n",
      "1951    0\n",
      "2439    1\n",
      "942     0\n",
      "2095    0\n",
      "139     0\n",
      "3800    1\n",
      "2130    1\n",
      "2624    0\n",
      "3133    0\n",
      "2774    1\n",
      "305     0\n",
      "1987    0\n",
      "1224    0\n",
      "3606    0\n",
      "3776    0\n",
      "2004    0\n",
      "1194    0\n",
      "365     0\n",
      "4579    0\n",
      "4693    1\n",
      "4116    1\n",
      "3818    0\n",
      "1759    0\n",
      "976     1\n",
      "511     0\n",
      "4055    1\n",
      "2778    0\n",
      "2940    1\n",
      "4870    1\n",
      "Name: OUTCOME, Length: 1342, dtype: int64\n"
     ]
    }
   ],
   "source": [
    "# create training and testing vars\n",
    "X_train, X_test, y_train, y_test = train_test_split(diabetes.loc[:, diabetes.columns != 'OUTCOME'], diabetes['OUTCOME'], stratify=diabetes['OUTCOME'], random_state=42)\n",
    "print X_train.shape, y_train.shape\n",
    "print X_test.shape, y_test.shape"
   ]
  },
  {
   "cell_type": "code",
   "execution_count": 11,
   "metadata": {},
   "outputs": [
    {
     "data": {
      "text/html": [
       "<div>\n",
       "<style scoped>\n",
       "    .dataframe tbody tr th:only-of-type {\n",
       "        vertical-align: middle;\n",
       "    }\n",
       "\n",
       "    .dataframe tbody tr th {\n",
       "        vertical-align: top;\n",
       "    }\n",
       "\n",
       "    .dataframe thead th {\n",
       "        text-align: right;\n",
       "    }\n",
       "</style>\n",
       "<table border=\"1\" class=\"dataframe\">\n",
       "  <thead>\n",
       "    <tr style=\"text-align: right;\">\n",
       "      <th></th>\n",
       "      <th>SEQN</th>\n",
       "      <th>BMXWT</th>\n",
       "      <th>BMXHT</th>\n",
       "      <th>BMXBMI</th>\n",
       "      <th>BMXWAIST</th>\n",
       "      <th>BPQ020</th>\n",
       "      <th>RIDAGEYR</th>\n",
       "      <th>RIDRETH3</th>\n",
       "      <th>MCQ300C</th>\n",
       "      <th>PAQ665</th>\n",
       "      <th>LBXTC</th>\n",
       "      <th>OUTCOME</th>\n",
       "    </tr>\n",
       "  </thead>\n",
       "  <tbody>\n",
       "    <tr>\n",
       "      <th>0</th>\n",
       "      <td>73559</td>\n",
       "      <td>88.9</td>\n",
       "      <td>175.3</td>\n",
       "      <td>28.9</td>\n",
       "      <td>109.2</td>\n",
       "      <td>1</td>\n",
       "      <td>72</td>\n",
       "      <td>3</td>\n",
       "      <td>2</td>\n",
       "      <td>1</td>\n",
       "      <td>126</td>\n",
       "      <td>1</td>\n",
       "    </tr>\n",
       "    <tr>\n",
       "      <th>1</th>\n",
       "      <td>73564</td>\n",
       "      <td>93.4</td>\n",
       "      <td>161.8</td>\n",
       "      <td>35.7</td>\n",
       "      <td>110.8</td>\n",
       "      <td>1</td>\n",
       "      <td>61</td>\n",
       "      <td>3</td>\n",
       "      <td>2</td>\n",
       "      <td>2</td>\n",
       "      <td>168</td>\n",
       "      <td>0</td>\n",
       "    </tr>\n",
       "    <tr>\n",
       "      <th>2</th>\n",
       "      <td>73568</td>\n",
       "      <td>47.1</td>\n",
       "      <td>152.5</td>\n",
       "      <td>20.3</td>\n",
       "      <td>73.7</td>\n",
       "      <td>2</td>\n",
       "      <td>26</td>\n",
       "      <td>3</td>\n",
       "      <td>2</td>\n",
       "      <td>1</td>\n",
       "      <td>168</td>\n",
       "      <td>0</td>\n",
       "    </tr>\n",
       "    <tr>\n",
       "      <th>3</th>\n",
       "      <td>73574</td>\n",
       "      <td>56.8</td>\n",
       "      <td>158.0</td>\n",
       "      <td>22.8</td>\n",
       "      <td>78.7</td>\n",
       "      <td>2</td>\n",
       "      <td>33</td>\n",
       "      <td>6</td>\n",
       "      <td>1</td>\n",
       "      <td>1</td>\n",
       "      <td>131</td>\n",
       "      <td>0</td>\n",
       "    </tr>\n",
       "    <tr>\n",
       "      <th>4</th>\n",
       "      <td>73577</td>\n",
       "      <td>79.7</td>\n",
       "      <td>166.2</td>\n",
       "      <td>28.9</td>\n",
       "      <td>100.0</td>\n",
       "      <td>2</td>\n",
       "      <td>32</td>\n",
       "      <td>1</td>\n",
       "      <td>1</td>\n",
       "      <td>2</td>\n",
       "      <td>182</td>\n",
       "      <td>0</td>\n",
       "    </tr>\n",
       "  </tbody>\n",
       "</table>\n",
       "</div>"
      ],
      "text/plain": [
       "    SEQN  BMXWT  BMXHT  BMXBMI  BMXWAIST  BPQ020  RIDAGEYR  RIDRETH3  MCQ300C  \\\n",
       "0  73559   88.9  175.3    28.9     109.2       1        72         3        2   \n",
       "1  73564   93.4  161.8    35.7     110.8       1        61         3        2   \n",
       "2  73568   47.1  152.5    20.3      73.7       2        26         3        2   \n",
       "3  73574   56.8  158.0    22.8      78.7       2        33         6        1   \n",
       "4  73577   79.7  166.2    28.9     100.0       2        32         1        1   \n",
       "\n",
       "   PAQ665  LBXTC  OUTCOME  \n",
       "0       1    126        1  \n",
       "1       2    168        0  \n",
       "2       1    168        0  \n",
       "3       1    131        0  \n",
       "4       2    182        0  "
      ]
     },
     "execution_count": 11,
     "metadata": {},
     "output_type": "execute_result"
    }
   ],
   "source": [
    "diabetes.head()"
   ]
  },
  {
   "cell_type": "code",
   "execution_count": 12,
   "metadata": {},
   "outputs": [
    {
     "data": {
      "image/png": "[encoded data removed]",
      "text/plain": [
       "<Figure size 432x288 with 1 Axes>"
      ]
     },
     "metadata": {
      "needs_background": "light"
     },
     "output_type": "display_data"
    }
   ],
   "source": [
    "from sklearn.neighbors import KNeighborsClassifier\n",
    "\n",
    "training_accuracy = []\n",
    "test_accuracy = []\n",
    "\n",
    "# try n_neighbors from 1 to 10\n",
    "neighbors_settings = range(1, 11)\n",
    "for n_neighbors in neighbors_settings:\n",
    "    # build the model\n",
    "    knn = KNeighborsClassifier(n_neighbors=n_neighbors)\n",
    "    knn.fit(X_train, y_train)\n",
    "    # record training set accuracy\n",
    "    training_accuracy.append(knn.score(X_train, y_train))\n",
    "    # record test set accuracy\n",
    "    test_accuracy.append(knn.score(X_test, y_test))\n",
    "\n",
    "# plot    \n",
    "plt.plot(neighbors_settings, training_accuracy, label=\"training accuracy\")\n",
    "plt.plot(neighbors_settings, test_accuracy, label=\"test accuracy\")\n",
    "plt.ylabel(\"Accuracy\")\n",
    "plt.xlabel(\"n_neighbors\")\n",
    "plt.legend()\n",
    "plt.savefig('knn_compare_model')"
   ]
  },
  {
   "cell_type": "code",
   "execution_count": 64,
   "metadata": {},
   "outputs": [
    {
     "name": "stdout",
     "output_type": "stream",
     "text": [
      "Accuracy of K-NN classifier on training set: 0.85\n",
      "Accuracy of K-NN classifier on test set: 0.84\n",
      "[0 0 1 ... 0 0 1]\n",
      "[0 0 1 ... 0 1 1]\n",
      "[[941  11]\n",
      " [205 185]]\n",
      "              precision    recall  f1-score   support\n",
      "\n",
      "           0       0.82      0.99      0.90       952\n",
      "           1       0.94      0.47      0.63       390\n",
      "\n",
      "   micro avg       0.84      0.84      0.84      1342\n",
      "   macro avg       0.88      0.73      0.76      1342\n",
      "weighted avg       0.86      0.84      0.82      1342\n",
      "\n"
     ]
    }
   ],
   "source": [
    "knn = KNeighborsClassifier(n_neighbors=6)\n",
    "knn.fit(X_train, y_train)\n",
    "print('Accuracy of K-NN classifier on training set: {:.2f}'.format(knn.score(X_train, y_train)))\n",
    "print('Accuracy of K-NN classifier on test set: {:.2f}'.format(knn.score(X_test, y_test)))\n",
    "\n",
    "import numpy as np\n",
    "test = knn.predict(X_test)\n",
    "print(test)\n",
    "print(np.array(y_test))\n",
    "\n",
    "from sklearn import metrics\n",
    "print(metrics.confusion_matrix(np.array(y_test), test, labels=[0, 1]))\n",
    "print(metrics.classification_report(np.array(y_test), test, labels=[0, 1]))"
   ]
  },
  {
   "cell_type": "code",
   "execution_count": 14,
   "metadata": {},
   "outputs": [
    {
     "name": "stdout",
     "output_type": "stream",
     "text": [
      "Training set score: 0.809\n",
      "Test set score: 0.810\n"
     ]
    },
    {
     "name": "stderr",
     "output_type": "stream",
     "text": [
      "c:\\python27\\lib\\site-packages\\sklearn\\linear_model\\logistic.py:433: FutureWarning: Default solver will be changed to 'lbfgs' in 0.22. Specify a solver to silence this warning.\n",
      "  FutureWarning)\n"
     ]
    }
   ],
   "source": [
    "# LOGISTIC REGRESSION\n",
    "\n",
    "from sklearn.linear_model import LogisticRegression\n",
    "logreg = LogisticRegression().fit(X_train, y_train)\n",
    "print(\"Training set score: {:.3f}\".format(logreg.score(X_train, y_train)))\n",
    "print(\"Test set score: {:.3f}\".format(logreg.score(X_test, y_test)))\n"
   ]
  },
  {
   "cell_type": "code",
   "execution_count": 15,
   "metadata": {},
   "outputs": [
    {
     "name": "stdout",
     "output_type": "stream",
     "text": [
      "Training set accuracy: 0.809\n",
      "Test set accuracy: 0.810\n"
     ]
    }
   ],
   "source": [
    "logreg001 = LogisticRegression(C=0.01).fit(X_train, y_train)\n",
    "print(\"Training set accuracy: {:.3f}\".format(logreg001.score(X_train, y_train)))\n",
    "print(\"Test set accuracy: {:.3f}\".format(logreg001.score(X_test, y_test)))"
   ]
  },
  {
   "cell_type": "code",
   "execution_count": 16,
   "metadata": {},
   "outputs": [
    {
     "name": "stdout",
     "output_type": "stream",
     "text": [
      "Training set accuracy: 0.809\n",
      "Test set accuracy: 0.810\n"
     ]
    }
   ],
   "source": [
    "logreg100 = LogisticRegression(C=100).fit(X_train, y_train)\n",
    "print(\"Training set accuracy: {:.3f}\".format(logreg100.score(X_train, y_train)))\n",
    "print(\"Test set accuracy: {:.3f}\".format(logreg100.score(X_test, y_test)))"
   ]
  },
  {
   "cell_type": "code",
   "execution_count": 17,
   "metadata": {},
   "outputs": [
    {
     "data": {
      "image/png": "[encoded data removed]",
      "text/plain": [
       "<Figure size 576x432 with 1 Axes>"
      ]
     },
     "metadata": {
      "needs_background": "light"
     },
     "output_type": "display_data"
    }
   ],
   "source": [
    "diabetes_features = [x for i,x in enumerate(diabetes.columns) if i!=8]\n",
    "plt.figure(figsize=(8,6))\n",
    "plt.plot(logreg.coef_.T, 'o', label=\"C=1\")\n",
    "plt.plot(logreg100.coef_.T, '^', label=\"C=100\")\n",
    "plt.plot(logreg001.coef_.T, 'v', label=\"C=0.001\")\n",
    "plt.xticks(range(diabetes.shape[1]), diabetes_features, rotation=90)\n",
    "plt.hlines(0, 0, diabetes.shape[1])\n",
    "plt.ylim(-0.25, 0.25)\n",
    "plt.xlabel(\"Feature\")\n",
    "plt.ylabel(\"Coefficient magnitude\")\n",
    "plt.legend()\n",
    "plt.savefig('log_coef')"
   ]
  },
  {
   "cell_type": "code",
   "execution_count": 78,
   "metadata": {},
   "outputs": [
    {
     "name": "stdout",
     "output_type": "stream",
     "text": [
      "Accuracy on training set: 1.00\n",
      "Accuracy on test set: 0.71\n",
      "('Predicted:', array([0, 0, 0, ..., 0, 0, 0], dtype=int64))\n",
      "('Actual   :', array([0, 0, 1, ..., 0, 1, 1], dtype=int64))\n",
      "[[952   0]\n",
      " [390   0]]\n",
      "              precision    recall  f1-score   support\n",
      "\n",
      "           0       0.71      1.00      0.83       952\n",
      "           1       0.00      0.00      0.00       390\n",
      "\n",
      "   micro avg       0.71      0.71      0.71      1342\n",
      "   macro avg       0.35      0.50      0.41      1342\n",
      "weighted avg       0.50      0.71      0.59      1342\n",
      "\n"
     ]
    }
   ],
   "source": [
    "from sklearn.svm import SVC\n",
    "svc = SVC()\n",
    "svc.fit(X_train, y_train)\n",
    "print(\"Accuracy on training set: {:.2f}\".format(svc.score(X_train, y_train)))\n",
    "print(\"Accuracy on test set: {:.2f}\".format(svc.score(X_test, y_test)))\n",
    "\n",
    "import numpy as np\n",
    "test = svc.predict(X_test)\n",
    "print(\"Predicted:\", test)\n",
    "print(\"Actual   :\", np.array(y_test))\n",
    "\n",
    "from sklearn import metrics\n",
    "print(metrics.confusion_matrix(np.array(y_test), test, labels=[0, 1]))\n",
    "print(metrics.classification_report(np.array(y_test), test, labels=[0, 1]))"
   ]
  },
  {
   "cell_type": "code",
   "execution_count": 81,
   "metadata": {},
   "outputs": [
    {
     "name": "stdout",
     "output_type": "stream",
     "text": [
      "Accuracy on training set: 0.83\n",
      "Accuracy on test set: 0.80\n",
      "('Predicted:', array([1, 0, 1, ..., 0, 0, 1], dtype=int64))\n",
      "('Actual   :', array([0, 0, 1, ..., 0, 1, 1], dtype=int64))\n",
      "[[821 131]\n",
      " [131 259]]\n",
      "              precision    recall  f1-score   support\n",
      "\n",
      "           0       0.86      0.86      0.86       952\n",
      "           1       0.66      0.66      0.66       390\n",
      "\n",
      "   micro avg       0.80      0.80      0.80      1342\n",
      "   macro avg       0.76      0.76      0.76      1342\n",
      "weighted avg       0.80      0.80      0.80      1342\n",
      "\n"
     ]
    }
   ],
   "source": [
    "from sklearn.preprocessing import MinMaxScaler\n",
    "scaler = MinMaxScaler()\n",
    "X_train_scaled = scaler.fit_transform(X_train)\n",
    "X_test_scaled = scaler.fit_transform(X_test)\n",
    "svc = SVC()\n",
    "svc.fit(X_train_scaled, y_train)\n",
    "print(\"Accuracy on training set: {:.2f}\".format(svc.score(X_train_scaled, y_train)))\n",
    "print(\"Accuracy on test set: {:.2f}\".format(svc.score(X_test_scaled, y_test)))\n",
    "\n",
    "import numpy as np\n",
    "test = svc.predict(X_test_scaled)\n",
    "print(\"Predicted:\", test)\n",
    "print(\"Actual   :\", np.array(y_test))\n",
    "\n",
    "from sklearn import metrics\n",
    "print(metrics.confusion_matrix(np.array(y_test), test, labels=[0, 1]))\n",
    "print(metrics.classification_report(np.array(y_test), test, labels=[0, 1]))"
   ]
  },
  {
   "cell_type": "code",
   "execution_count": 79,
   "metadata": {},
   "outputs": [
    {
     "name": "stdout",
     "output_type": "stream",
     "text": [
      "Accuracy on training set: 0.982\n",
      "Accuracy on test set: 0.771\n",
      "('Predicted:', array([0, 0, 0, ..., 0, 0, 0], dtype=int64))\n",
      "('Actual   :', array([0, 0, 1, ..., 0, 1, 1], dtype=int64))\n",
      "[[952   0]\n",
      " [390   0]]\n",
      "              precision    recall  f1-score   support\n",
      "\n",
      "           0       0.71      1.00      0.83       952\n",
      "           1       0.00      0.00      0.00       390\n",
      "\n",
      "   micro avg       0.71      0.71      0.71      1342\n",
      "   macro avg       0.35      0.50      0.41      1342\n",
      "weighted avg       0.50      0.71      0.59      1342\n",
      "\n"
     ]
    }
   ],
   "source": [
    "svc = SVC(C=1000)\n",
    "svc.fit(X_train_scaled, y_train)\n",
    "print(\"Accuracy on training set: {:.3f}\".format(\n",
    "    svc.score(X_train_scaled, y_train)))\n",
    "print(\"Accuracy on test set: {:.3f}\".format(svc.score(X_test_scaled, y_test)))\n",
    "\n",
    "import numpy as np\n",
    "test = svc.predict(X_test)\n",
    "print(\"Predicted:\", test)\n",
    "print(\"Actual   :\", np.array(y_test))\n",
    "\n",
    "from sklearn import metrics\n",
    "print(metrics.confusion_matrix(np.array(y_test), test, labels=[0, 1]))\n",
    "print(metrics.classification_report(np.array(y_test), test, labels=[0, 1]))"
   ]
  },
  {
   "cell_type": "code",
   "execution_count": 21,
   "metadata": {},
   "outputs": [
    {
     "name": "stderr",
     "output_type": "stream",
     "text": [
      "c:\\python27\\lib\\site-packages\\sklearn\\svm\\base.py:931: ConvergenceWarning: Liblinear failed to converge, increase the number of iterations.\n",
      "  \"the number of iterations.\", ConvergenceWarning)\n"
     ]
    },
    {
     "name": "stdout",
     "output_type": "stream",
     "text": [
      "Accuracy on training set: 0.29\n",
      "Accuracy on test set: 0.29\n"
     ]
    }
   ],
   "source": [
    "from sklearn.svm import LinearSVC\n",
    "linearsvc = LinearSVC()\n",
    "linearsvc.fit(X_train, y_train)\n",
    "print(\"Accuracy on training set: {:.2f}\".format(svc.score(X_train, y_train)))\n",
    "print(\"Accuracy on test set: {:.2f}\".format(svc.score(X_test, y_test)))"
   ]
  },
  {
   "cell_type": "code",
   "execution_count": 22,
   "metadata": {},
   "outputs": [
    {
     "name": "stdout",
     "output_type": "stream",
     "text": [
      "Accuracy on training set: 0.83\n",
      "Accuracy on test set: 0.78\n"
     ]
    }
   ],
   "source": [
    "from sklearn.preprocessing import MinMaxScaler\n",
    "scaler = MinMaxScaler()\n",
    "X_train_scaled = scaler.fit_transform(X_train)\n",
    "X_test_scaled = scaler.fit_transform(X_test)\n",
    "linearsvc = LinearSVC()\n",
    "linearsvc.fit(X_train_scaled, y_train)\n",
    "print(\"Accuracy on training set: {:.2f}\".format(linearsvc.score(X_train_scaled, y_train)))\n",
    "print(\"Accuracy on test set: {:.2f}\".format(linearsvc.score(X_test_scaled, y_test)))"
   ]
  },
  {
   "cell_type": "code",
   "execution_count": 23,
   "metadata": {},
   "outputs": [
    {
     "name": "stdout",
     "output_type": "stream",
     "text": [
      "Accuracy on training set: 0.757\n",
      "Accuracy on test set: 0.706\n"
     ]
    }
   ],
   "source": [
    "linearsvc = LinearSVC(C=1000)\n",
    "linearsvc.fit(X_train_scaled, y_train)\n",
    "print(\"Accuracy on training set: {:.3f}\".format(\n",
    "    linearsvc.score(X_train_scaled, y_train)))\n",
    "print(\"Accuracy on test set: {:.3f}\".format(linearsvc.score(X_test_scaled, y_test)))"
   ]
  },
  {
   "cell_type": "code",
   "execution_count": 86,
   "metadata": {},
   "outputs": [
    {
     "name": "stdout",
     "output_type": "stream",
     "text": [
      "Accuracy on training set: 1.000\n",
      "Accuracy on test set: 0.842\n"
     ]
    }
   ],
   "source": [
    "from sklearn.ensemble import RandomForestClassifier\n",
    "rf = RandomForestClassifier(n_estimators=100, random_state=0)\n",
    "rf.fit(X_train, y_train)\n",
    "print(\"Accuracy on training set: {:.3f}\".format(rf.score(X_train, y_train)))\n",
    "print(\"Accuracy on test set: {:.3f}\".format(rf.score(X_test, y_test)))"
   ]
  },
  {
   "cell_type": "code",
   "execution_count": 87,
   "metadata": {},
   "outputs": [
    {
     "name": "stdout",
     "output_type": "stream",
     "text": [
      "Accuracy on training set: 0.850\n",
      "Accuracy on test set: 0.846\n",
      "('Predicted:', array([0, 0, 1, ..., 0, 0, 1], dtype=int64))\n",
      "('Actual   :', array([0, 0, 1, ..., 0, 1, 1], dtype=int64))\n",
      "[[948   4]\n",
      " [203 187]]\n",
      "              precision    recall  f1-score   support\n",
      "\n",
      "           0       0.82      1.00      0.90       952\n",
      "           1       0.98      0.48      0.64       390\n",
      "\n",
      "   micro avg       0.85      0.85      0.85      1342\n",
      "   macro avg       0.90      0.74      0.77      1342\n",
      "weighted avg       0.87      0.85      0.83      1342\n",
      "\n"
     ]
    }
   ],
   "source": [
    "rf1 = RandomForestClassifier(max_depth=3, n_estimators=100, random_state=0)\n",
    "rf1.fit(X_train, y_train)\n",
    "print(\"Accuracy on training set: {:.3f}\".format(rf1.score(X_train, y_train)))\n",
    "print(\"Accuracy on test set: {:.3f}\".format(rf1.score(X_test, y_test)))\n",
    "\n",
    "import numpy as np\n",
    "test = rf1.predict(X_test)\n",
    "print(\"Predicted:\", test)\n",
    "print(\"Actual   :\", np.array(y_test))\n",
    "\n",
    "from sklearn import metrics\n",
    "print(metrics.confusion_matrix(np.array(y_test), test, labels=[0, 1]))\n",
    "print(metrics.classification_report(np.array(y_test), test, labels=[0, 1]))"
   ]
  },
  {
   "cell_type": "code",
   "execution_count": 26,
   "metadata": {},
   "outputs": [
    {
     "name": "stdout",
     "output_type": "stream",
     "text": [
      "Accuracy on training set: 1.000\n",
      "Accuracy on test set: 0.787\n"
     ]
    }
   ],
   "source": [
    "from sklearn.tree import DecisionTreeClassifier\n",
    "tree = DecisionTreeClassifier(random_state=0)\n",
    "tree.fit(X_train, y_train)\n",
    "print(\"Accuracy on training set: {:.3f}\".format(tree.score(X_train, y_train)))\n",
    "print(\"Accuracy on test set: {:.3f}\".format(tree.score(X_test, y_test)))"
   ]
  },
  {
   "cell_type": "code",
   "execution_count": 59,
   "metadata": {},
   "outputs": [
    {
     "name": "stdout",
     "output_type": "stream",
     "text": [
      "Accuracy on training set: 0.846\n",
      "Accuracy on test set: 0.840\n",
      "[0 0 1 ... 0 0 1]\n",
      "[0 0 1 ... 0 1 1]\n",
      "[[952   0]\n",
      " [215 175]]\n",
      "              precision    recall  f1-score   support\n",
      "\n",
      "           0       0.82      1.00      0.90       952\n",
      "           1       1.00      0.45      0.62       390\n",
      "\n",
      "   micro avg       0.84      0.84      0.84      1342\n",
      "   macro avg       0.91      0.72      0.76      1342\n",
      "weighted avg       0.87      0.84      0.82      1342\n",
      "\n"
     ]
    }
   ],
   "source": [
    "tree = DecisionTreeClassifier(max_depth=3, random_state=0)\n",
    "tree.fit(X_train, y_train)\n",
    "print(\"Accuracy on training set: {:.3f}\".format(tree.score(X_train, y_train)))\n",
    "print(\"Accuracy on test set: {:.3f}\".format(tree.score(X_test, y_test)))\n",
    "\n",
    "import numpy as np\n",
    "test = tree.predict(X_test)\n",
    "print(\"Predicted:\", test)\n",
    "print(\"Actual   :\", np.array(y_test))\n",
    "\n",
    "from sklearn import metrics\n",
    "print(metrics.confusion_matrix(np.array(y_test), test, labels=[0, 1]))\n",
    "print(metrics.classification_report(np.array(y_test), test, labels=[0, 1]))"
   ]
  },
  {
   "cell_type": "code",
   "execution_count": 60,
   "metadata": {},
   "outputs": [
    {
     "name": "stdout",
     "output_type": "stream",
     "text": [
      "Accuracy on training set: 0.884\n",
      "Accuracy on test set: 0.850\n",
      "[1 0 1 ... 0 0 1]\n",
      "[0 0 1 ... 0 1 1]\n",
      "[[907  45]\n",
      " [156 234]]\n",
      "              precision    recall  f1-score   support\n",
      "\n",
      "           0       0.85      0.95      0.90       952\n",
      "           1       0.84      0.60      0.70       390\n",
      "\n",
      "   micro avg       0.85      0.85      0.85      1342\n",
      "   macro avg       0.85      0.78      0.80      1342\n",
      "weighted avg       0.85      0.85      0.84      1342\n",
      "\n"
     ]
    }
   ],
   "source": [
    "from sklearn.ensemble import GradientBoostingClassifier\n",
    "gb = GradientBoostingClassifier(random_state=0)\n",
    "gb.fit(X_train, y_train)\n",
    "print(\"Accuracy on training set: {:.3f}\".format(gb.score(X_train, y_train)))\n",
    "print(\"Accuracy on test set: {:.3f}\".format(gb.score(X_test, y_test)))\n",
    "\n",
    "import numpy as np\n",
    "test = gb.predict(X_test)\n",
    "print(\"Predicted:\", test)\n",
    "print(\"Actual   :\", np.array(y_test))\n",
    "\n",
    "from sklearn import metrics\n",
    "print(metrics.confusion_matrix(np.array(y_test), test, labels=[0, 1]))\n",
    "print(metrics.classification_report(np.array(y_test), test, labels=[0, 1]))"
   ]
  },
  {
   "cell_type": "code",
   "execution_count": 83,
   "metadata": {},
   "outputs": [
    {
     "name": "stdout",
     "output_type": "stream",
     "text": [
      "Accuracy on training set: 0.854\n",
      "Accuracy on test set: 0.852\n"
     ]
    }
   ],
   "source": [
    "gb1 = GradientBoostingClassifier(random_state=0, max_depth=1)\n",
    "gb1.fit(X_train, y_train)\n",
    "print(\"Accuracy on training set: {:.3f}\".format(gb1.score(X_train, y_train)))\n",
    "print(\"Accuracy on test set: {:.3f}\".format(gb1.score(X_test, y_test)))"
   ]
  },
  {
   "cell_type": "code",
   "execution_count": 30,
   "metadata": {},
   "outputs": [
    {
     "name": "stdout",
     "output_type": "stream",
     "text": [
      "Accuracy on training set: 0.846\n",
      "Accuracy on test set: 0.840\n"
     ]
    }
   ],
   "source": [
    "gb2 = GradientBoostingClassifier(random_state=0, learning_rate=0.01)\n",
    "gb2.fit(X_train, y_train)\n",
    "print(\"Accuracy on training set: {:.3f}\".format(gb2.score(X_train, y_train)))\n",
    "print(\"Accuracy on test set: {:.3f}\".format(gb2.score(X_test, y_test)))"
   ]
  },
  {
   "cell_type": "code",
   "execution_count": 73,
   "metadata": {},
   "outputs": [
    {
     "name": "stdout",
     "output_type": "stream",
     "text": [
      "Accuracy on training set: 0.71\n",
      "Accuracy on test set: 0.71\n"
     ]
    }
   ],
   "source": [
    "from sklearn.neural_network import MLPClassifier\n",
    "\n",
    "mlp = MLPClassifier(random_state=42)\n",
    "mlp.fit(X_train, y_train)\n",
    "print(\"Accuracy on training set: {:.2f}\".format(mlp.score(X_train, y_train)))\n",
    "print(\"Accuracy on test set: {:.2f}\".format(mlp.score(X_test, y_test)))"
   ]
  },
  {
   "cell_type": "code",
   "execution_count": 77,
   "metadata": {},
   "outputs": [
    {
     "name": "stdout",
     "output_type": "stream",
     "text": [
      "Accuracy on training set: 0.876\n",
      "Accuracy on test set: 0.843\n"
     ]
    }
   ],
   "source": [
    "from sklearn.preprocessing import StandardScaler\n",
    "scaler = StandardScaler()\n",
    "X_train_scaled = scaler.fit_transform(X_train)\n",
    "X_test_scaled = scaler.fit_transform(X_test)\n",
    "mlp = MLPClassifier(random_state=0)\n",
    "mlp.fit(X_train_scaled, y_train)\n",
    "print(\"Accuracy on training set: {:.3f}\".format(\n",
    "    mlp.score(X_train_scaled, y_train)))\n",
    "print(\"Accuracy on test set: {:.3f}\".format(mlp.score(X_test_scaled, y_test)))"
   ]
  },
  {
   "cell_type": "code",
   "execution_count": 33,
   "metadata": {},
   "outputs": [
    {
     "name": "stdout",
     "output_type": "stream",
     "text": [
      "Accuracy on training set: 0.907\n",
      "Accuracy on test set: 0.842\n"
     ]
    }
   ],
   "source": [
    "mlp = MLPClassifier(max_iter=1000, random_state=0)\n",
    "mlp.fit(X_train_scaled, y_train)\n",
    "print(\"Accuracy on training set: {:.3f}\".format(\n",
    "    mlp.score(X_train_scaled, y_train)))\n",
    "print(\"Accuracy on test set: {:.3f}\".format(mlp.score(X_test_scaled, y_test)))"
   ]
  },
  {
   "cell_type": "code",
   "execution_count": 84,
   "metadata": {},
   "outputs": [
    {
     "name": "stdout",
     "output_type": "stream",
     "text": [
      "Accuracy on training set: 0.820\n",
      "Accuracy on test set: 0.811\n",
      "('Predicted:', array([1, 0, 1, ..., 1, 0, 1], dtype=int64))\n",
      "('Actual   :', array([0, 0, 1, ..., 0, 1, 1], dtype=int64))\n",
      "[[842 110]\n",
      " [144 246]]\n",
      "              precision    recall  f1-score   support\n",
      "\n",
      "           0       0.85      0.88      0.87       952\n",
      "           1       0.69      0.63      0.66       390\n",
      "\n",
      "   micro avg       0.81      0.81      0.81      1342\n",
      "   macro avg       0.77      0.76      0.76      1342\n",
      "weighted avg       0.81      0.81      0.81      1342\n",
      "\n"
     ]
    }
   ],
   "source": [
    "mlp = MLPClassifier(max_iter=1000, alpha=1, random_state=0)\n",
    "mlp.fit(X_train_scaled, y_train)\n",
    "print(\"Accuracy on training set: {:.3f}\".format(\n",
    "    mlp.score(X_train_scaled, y_train)))\n",
    "print(\"Accuracy on test set: {:.3f}\".format(mlp.score(X_test_scaled, y_test)))\n",
    "\n",
    "import numpy as np\n",
    "test = mlp.predict(X_test_scaled)\n",
    "print(\"Predicted:\", test)\n",
    "print(\"Actual   :\", np.array(y_test))\n",
    "\n",
    "from sklearn import metrics\n",
    "print(metrics.confusion_matrix(np.array(y_test), test, labels=[0, 1]))\n",
    "print(metrics.classification_report(np.array(y_test), test, labels=[0, 1]))"
   ]
  },
  {
   "cell_type": "code",
   "execution_count": 76,
   "metadata": {},
   "outputs": [
    {
     "name": "stdout",
     "output_type": "stream",
     "text": [
      "Accuracy on training set: 0.818\n",
      "Accuracy on test set: 0.794\n",
      "('Predicted:', array([1, 0, 1, ..., 1, 0, 0], dtype=int64))\n",
      "('Actual   :', array([0, 0, 1, ..., 0, 1, 1], dtype=int64))\n",
      "[[832 120]\n",
      " [157 233]]\n",
      "              precision    recall  f1-score   support\n",
      "\n",
      "           0       0.84      0.87      0.86       952\n",
      "           1       0.66      0.60      0.63       390\n",
      "\n",
      "   micro avg       0.79      0.79      0.79      1342\n",
      "   macro avg       0.75      0.74      0.74      1342\n",
      "weighted avg       0.79      0.79      0.79      1342\n",
      "\n"
     ]
    }
   ],
   "source": [
    "from sklearn.naive_bayes import GaussianNB\n",
    "clf = GaussianNB()\n",
    "clf.fit(X_train, y_train)\n",
    "print(\"Accuracy on training set: {:.3f}\".format(clf.score(X_train, y_train)))\n",
    "print(\"Accuracy on test set: {:.3f}\".format(clf.score(X_test, y_test)))\n",
    "\n",
    "import numpy as np\n",
    "test = clf.predict(X_test)\n",
    "print(\"Predicted:\", test)\n",
    "print(\"Actual   :\", np.array(y_test))\n",
    "\n",
    "from sklearn import metrics\n",
    "print(metrics.confusion_matrix(np.array(y_test), test, labels=[0, 1]))\n",
    "print(metrics.classification_report(np.array(y_test), test, labels=[0, 1]))"
   ]
  },
  {
   "cell_type": "code",
   "execution_count": null,
   "metadata": {},
   "outputs": [],
   "source": []
  }
 ],
 "metadata": {
  "kernelspec": {
   "display_name": "Python 2",
   "language": "python",
   "name": "python2"
  },
  "language_info": {
   "codemirror_mode": {
    "name": "ipython",
    "version": 2
   },
   "file_extension": ".py",
   "mimetype": "text/x-python",
   "name": "python",
   "nbconvert_exporter": "python",
   "pygments_lexer": "ipython2",
   "version": "2.7.18"
  }
 },
 "nbformat": 4,
 "nbformat_minor": 2
}
